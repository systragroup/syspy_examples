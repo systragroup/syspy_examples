{
 "cells": [
  {
   "cell_type": "code",
   "execution_count": 3,
   "metadata": {},
   "outputs": [],
   "source": [
    "import sys\n",
    "sys.path.insert(0, r'../../quetzal/')\n",
    "import syspy\n",
    "\n",
    "import geopandas as gpd\n",
    "import pandas as pd\n",
    "ipath = r'inputs/'"
   ]
  },
  {
   "cell_type": "code",
   "execution_count": 4,
   "metadata": {},
   "outputs": [],
   "source": [
    "import matplotlib.pyplot as plt\n",
    "plt.rcParams['figure.figsize'] = (10, 10)"
   ]
  },
  {
   "cell_type": "markdown",
   "metadata": {},
   "source": [
    "## Nearest neighbor"
   ]
  },
  {
   "cell_type": "code",
   "execution_count": 5,
   "metadata": {},
   "outputs": [],
   "source": [
    "nodes = gpd.read_file(ipath + r'nodes.geojson')\n",
    "clusters = gpd.read_file(ipath + r'clusters.geojson')"
   ]
  },
  {
   "cell_type": "code",
   "execution_count": 9,
   "metadata": {},
   "outputs": [
    {
     "name": "stdout",
     "output_type": "stream",
     "text": [
      "SQLalchemy is not installed. No support for SQL output.\n"
     ]
    }
   ],
   "source": [
    "from syspy.syspy_utils import neighbors"
   ]
  },
  {
   "cell_type": "code",
   "execution_count": 15,
   "metadata": {},
   "outputs": [
    {
     "data": {
      "text/html": [
       "<div>\n",
       "<style scoped>\n",
       "    .dataframe tbody tr th:only-of-type {\n",
       "        vertical-align: middle;\n",
       "    }\n",
       "\n",
       "    .dataframe tbody tr th {\n",
       "        vertical-align: top;\n",
       "    }\n",
       "\n",
       "    .dataframe thead th {\n",
       "        text-align: right;\n",
       "    }\n",
       "</style>\n",
       "<table border=\"1\" class=\"dataframe\">\n",
       "  <thead>\n",
       "    <tr style=\"text-align: right;\">\n",
       "      <th></th>\n",
       "      <th>ix_one</th>\n",
       "      <th>index_nn</th>\n",
       "      <th>ix_many</th>\n",
       "      <th>distance</th>\n",
       "      <th>rank</th>\n",
       "    </tr>\n",
       "  </thead>\n",
       "  <tbody>\n",
       "    <tr>\n",
       "      <th>0</th>\n",
       "      <td>0</td>\n",
       "      <td>316</td>\n",
       "      <td>316</td>\n",
       "      <td>0.000000</td>\n",
       "      <td>0</td>\n",
       "    </tr>\n",
       "    <tr>\n",
       "      <th>1</th>\n",
       "      <td>1</td>\n",
       "      <td>493</td>\n",
       "      <td>493</td>\n",
       "      <td>31.045714</td>\n",
       "      <td>0</td>\n",
       "    </tr>\n",
       "    <tr>\n",
       "      <th>424</th>\n",
       "      <td>424</td>\n",
       "      <td>493</td>\n",
       "      <td>493</td>\n",
       "      <td>31.045714</td>\n",
       "      <td>0</td>\n",
       "    </tr>\n",
       "    <tr>\n",
       "      <th>2</th>\n",
       "      <td>2</td>\n",
       "      <td>77</td>\n",
       "      <td>77</td>\n",
       "      <td>21.076526</td>\n",
       "      <td>0</td>\n",
       "    </tr>\n",
       "    <tr>\n",
       "      <th>720</th>\n",
       "      <td>720</td>\n",
       "      <td>77</td>\n",
       "      <td>77</td>\n",
       "      <td>21.076526</td>\n",
       "      <td>0</td>\n",
       "    </tr>\n",
       "    <tr>\n",
       "      <th>...</th>\n",
       "      <td>...</td>\n",
       "      <td>...</td>\n",
       "      <td>...</td>\n",
       "      <td>...</td>\n",
       "      <td>...</td>\n",
       "    </tr>\n",
       "    <tr>\n",
       "      <th>1022</th>\n",
       "      <td>1022</td>\n",
       "      <td>308</td>\n",
       "      <td>308</td>\n",
       "      <td>23.121956</td>\n",
       "      <td>0</td>\n",
       "    </tr>\n",
       "    <tr>\n",
       "      <th>1027</th>\n",
       "      <td>1027</td>\n",
       "      <td>308</td>\n",
       "      <td>308</td>\n",
       "      <td>23.121956</td>\n",
       "      <td>0</td>\n",
       "    </tr>\n",
       "    <tr>\n",
       "      <th>1026</th>\n",
       "      <td>1026</td>\n",
       "      <td>185</td>\n",
       "      <td>185</td>\n",
       "      <td>53.094864</td>\n",
       "      <td>0</td>\n",
       "    </tr>\n",
       "    <tr>\n",
       "      <th>1030</th>\n",
       "      <td>1030</td>\n",
       "      <td>185</td>\n",
       "      <td>185</td>\n",
       "      <td>53.094864</td>\n",
       "      <td>0</td>\n",
       "    </tr>\n",
       "    <tr>\n",
       "      <th>1033</th>\n",
       "      <td>1033</td>\n",
       "      <td>353</td>\n",
       "      <td>353</td>\n",
       "      <td>0.000000</td>\n",
       "      <td>0</td>\n",
       "    </tr>\n",
       "  </tbody>\n",
       "</table>\n",
       "<p>1056 rows × 5 columns</p>\n",
       "</div>"
      ],
      "text/plain": [
       "      ix_one  index_nn  ix_many   distance  rank\n",
       "0          0       316      316   0.000000     0\n",
       "1          1       493      493  31.045714     0\n",
       "424      424       493      493  31.045714     0\n",
       "2          2        77       77  21.076526     0\n",
       "720      720        77       77  21.076526     0\n",
       "...      ...       ...      ...        ...   ...\n",
       "1022    1022       308      308  23.121956     0\n",
       "1027    1027       308      308  23.121956     0\n",
       "1026    1026       185      185  53.094864     0\n",
       "1030    1030       185      185  53.094864     0\n",
       "1033    1033       353      353   0.000000     0\n",
       "\n",
       "[1056 rows x 5 columns]"
      ]
     },
     "execution_count": 15,
     "metadata": {},
     "output_type": "execute_result"
    }
   ],
   "source": [
    "neighbors.nearest(nodes, clusters)"
   ]
  },
  {
   "cell_type": "code",
   "execution_count": 20,
   "metadata": {},
   "outputs": [],
   "source": [
    "nodes['nearest_id'] = neighbors.nearest(nodes, clusters).set_index('ix_one')['ix_many']"
   ]
  },
  {
   "cell_type": "markdown",
   "metadata": {},
   "source": [
    "<font color='#D22328'>\n",
    "# Exercice\n",
    "</font>\n",
    "\n",
    "Créer un GeoDataFrame nearest_link, contenant les colonnes:\n",
    "- node_id\n",
    "- cluster_id\n",
    "- geometry (LineString entre un node et son plus proche voisin)"
   ]
  },
  {
   "cell_type": "code",
   "execution_count": 23,
   "metadata": {},
   "outputs": [
    {
     "data": {
      "text/html": [
       "<div>\n",
       "<style scoped>\n",
       "    .dataframe tbody tr th:only-of-type {\n",
       "        vertical-align: middle;\n",
       "    }\n",
       "\n",
       "    .dataframe tbody tr th {\n",
       "        vertical-align: top;\n",
       "    }\n",
       "\n",
       "    .dataframe thead th {\n",
       "        text-align: right;\n",
       "    }\n",
       "</style>\n",
       "<table border=\"1\" class=\"dataframe\">\n",
       "  <thead>\n",
       "    <tr style=\"text-align: right;\">\n",
       "      <th></th>\n",
       "      <th>cluster</th>\n",
       "      <th>geometry</th>\n",
       "    </tr>\n",
       "  </thead>\n",
       "  <tbody>\n",
       "    <tr>\n",
       "      <th>0</th>\n",
       "      <td>0</td>\n",
       "      <td>POINT (434823.617 6715890.484)</td>\n",
       "    </tr>\n",
       "    <tr>\n",
       "      <th>1</th>\n",
       "      <td>1</td>\n",
       "      <td>POINT (432375.612 6710577.892)</td>\n",
       "    </tr>\n",
       "    <tr>\n",
       "      <th>2</th>\n",
       "      <td>2</td>\n",
       "      <td>POINT (430315.179 6716075.961)</td>\n",
       "    </tr>\n",
       "    <tr>\n",
       "      <th>3</th>\n",
       "      <td>3</td>\n",
       "      <td>POINT (435573.833 6711152.233)</td>\n",
       "    </tr>\n",
       "    <tr>\n",
       "      <th>4</th>\n",
       "      <td>4</td>\n",
       "      <td>POINT (429807.490 6720485.979)</td>\n",
       "    </tr>\n",
       "    <tr>\n",
       "      <th>...</th>\n",
       "      <td>...</td>\n",
       "      <td>...</td>\n",
       "    </tr>\n",
       "    <tr>\n",
       "      <th>507</th>\n",
       "      <td>507</td>\n",
       "      <td>POINT (438234.420 6712370.674)</td>\n",
       "    </tr>\n",
       "    <tr>\n",
       "      <th>508</th>\n",
       "      <td>508</td>\n",
       "      <td>POINT (433926.898 6713841.771)</td>\n",
       "    </tr>\n",
       "    <tr>\n",
       "      <th>509</th>\n",
       "      <td>509</td>\n",
       "      <td>POINT (437490.775 6710414.325)</td>\n",
       "    </tr>\n",
       "    <tr>\n",
       "      <th>510</th>\n",
       "      <td>510</td>\n",
       "      <td>POINT (431931.637 6715156.247)</td>\n",
       "    </tr>\n",
       "    <tr>\n",
       "      <th>511</th>\n",
       "      <td>511</td>\n",
       "      <td>POINT (432429.729 6710968.162)</td>\n",
       "    </tr>\n",
       "  </tbody>\n",
       "</table>\n",
       "<p>512 rows × 2 columns</p>\n",
       "</div>"
      ],
      "text/plain": [
       "     cluster                        geometry\n",
       "0          0  POINT (434823.617 6715890.484)\n",
       "1          1  POINT (432375.612 6710577.892)\n",
       "2          2  POINT (430315.179 6716075.961)\n",
       "3          3  POINT (435573.833 6711152.233)\n",
       "4          4  POINT (429807.490 6720485.979)\n",
       "..       ...                             ...\n",
       "507      507  POINT (438234.420 6712370.674)\n",
       "508      508  POINT (433926.898 6713841.771)\n",
       "509      509  POINT (437490.775 6710414.325)\n",
       "510      510  POINT (431931.637 6715156.247)\n",
       "511      511  POINT (432429.729 6710968.162)\n",
       "\n",
       "[512 rows x 2 columns]"
      ]
     },
     "execution_count": 23,
     "metadata": {},
     "output_type": "execute_result"
    }
   ],
   "source": [
    "clusters"
   ]
  },
  {
   "cell_type": "code",
   "execution_count": 25,
   "metadata": {},
   "outputs": [
    {
     "data": {
      "text/html": [
       "<div>\n",
       "<style scoped>\n",
       "    .dataframe tbody tr th:only-of-type {\n",
       "        vertical-align: middle;\n",
       "    }\n",
       "\n",
       "    .dataframe tbody tr th {\n",
       "        vertical-align: top;\n",
       "    }\n",
       "\n",
       "    .dataframe thead th {\n",
       "        text-align: right;\n",
       "    }\n",
       "</style>\n",
       "<table border=\"1\" class=\"dataframe\">\n",
       "  <thead>\n",
       "    <tr style=\"text-align: right;\">\n",
       "      <th></th>\n",
       "      <th>index</th>\n",
       "      <th>stop_name</th>\n",
       "      <th>geometry_x</th>\n",
       "      <th>cluster_id</th>\n",
       "      <th>nearest_id</th>\n",
       "      <th>cluster</th>\n",
       "      <th>geometry_y</th>\n",
       "    </tr>\n",
       "  </thead>\n",
       "  <tbody>\n",
       "    <tr>\n",
       "      <th>0</th>\n",
       "      <td>node_CHAMF-E</td>\n",
       "      <td>CHAMPFLEUR</td>\n",
       "      <td>POINT (436223.588 6715001.597)</td>\n",
       "      <td>316</td>\n",
       "      <td>316</td>\n",
       "      <td>316</td>\n",
       "      <td>POINT (436223.588 6715001.597)</td>\n",
       "    </tr>\n",
       "    <tr>\n",
       "      <th>1</th>\n",
       "      <td>node_MENDES-E</td>\n",
       "      <td>MENDES FRANCE</td>\n",
       "      <td>POINT (433029.204 6714060.184)</td>\n",
       "      <td>493</td>\n",
       "      <td>493</td>\n",
       "      <td>493</td>\n",
       "      <td>POINT (433005.710 6714039.889)</td>\n",
       "    </tr>\n",
       "    <tr>\n",
       "      <th>2</th>\n",
       "      <td>node_MENDESFR</td>\n",
       "      <td>MENDES FRANCE</td>\n",
       "      <td>POINT (432982.217 6714019.594)</td>\n",
       "      <td>493</td>\n",
       "      <td>493</td>\n",
       "      <td>493</td>\n",
       "      <td>POINT (433005.710 6714039.889)</td>\n",
       "    </tr>\n",
       "    <tr>\n",
       "      <th>3</th>\n",
       "      <td>node_VIGNES</td>\n",
       "      <td>LES VIGNES</td>\n",
       "      <td>POINT (426628.541 6707230.624)</td>\n",
       "      <td>77</td>\n",
       "      <td>77</td>\n",
       "      <td>77</td>\n",
       "      <td>POINT (426629.423 6707209.566)</td>\n",
       "    </tr>\n",
       "    <tr>\n",
       "      <th>4</th>\n",
       "      <td>node_VIGNES-E</td>\n",
       "      <td>LES VIGNES</td>\n",
       "      <td>POINT (426630.305 6707188.508)</td>\n",
       "      <td>77</td>\n",
       "      <td>77</td>\n",
       "      <td>77</td>\n",
       "      <td>POINT (426629.423 6707209.566)</td>\n",
       "    </tr>\n",
       "    <tr>\n",
       "      <th>...</th>\n",
       "      <td>...</td>\n",
       "      <td>...</td>\n",
       "      <td>...</td>\n",
       "      <td>...</td>\n",
       "      <td>...</td>\n",
       "      <td>...</td>\n",
       "      <td>...</td>\n",
       "    </tr>\n",
       "    <tr>\n",
       "      <th>1051</th>\n",
       "      <td>node_LABRUYER</td>\n",
       "      <td>LA BRUYERE</td>\n",
       "      <td>POINT (430923.709 6714563.059)</td>\n",
       "      <td>308</td>\n",
       "      <td>308</td>\n",
       "      <td>308</td>\n",
       "      <td>POINT (430943.160 6714550.558)</td>\n",
       "    </tr>\n",
       "    <tr>\n",
       "      <th>1052</th>\n",
       "      <td>node_LABRUY-E</td>\n",
       "      <td>LA BRUYERE</td>\n",
       "      <td>POINT (430962.610 6714538.056)</td>\n",
       "      <td>308</td>\n",
       "      <td>308</td>\n",
       "      <td>308</td>\n",
       "      <td>POINT (430943.160 6714550.558)</td>\n",
       "    </tr>\n",
       "    <tr>\n",
       "      <th>1053</th>\n",
       "      <td>node_FRATER</td>\n",
       "      <td>FRATERNITE</td>\n",
       "      <td>POINT (432011.649 6716102.539)</td>\n",
       "      <td>185</td>\n",
       "      <td>185</td>\n",
       "      <td>185</td>\n",
       "      <td>POINT (431958.554 6716102.655)</td>\n",
       "    </tr>\n",
       "    <tr>\n",
       "      <th>1054</th>\n",
       "      <td>node_FRATE-E</td>\n",
       "      <td>FRATERNITE</td>\n",
       "      <td>POINT (431905.459 6716102.772)</td>\n",
       "      <td>185</td>\n",
       "      <td>185</td>\n",
       "      <td>185</td>\n",
       "      <td>POINT (431958.554 6716102.655)</td>\n",
       "    </tr>\n",
       "    <tr>\n",
       "      <th>1055</th>\n",
       "      <td>node_SBARTHEL</td>\n",
       "      <td>SAINT BARTHELEMY</td>\n",
       "      <td>POINT (437526.378 6713825.458)</td>\n",
       "      <td>353</td>\n",
       "      <td>353</td>\n",
       "      <td>353</td>\n",
       "      <td>POINT (437526.378 6713825.458)</td>\n",
       "    </tr>\n",
       "  </tbody>\n",
       "</table>\n",
       "<p>1056 rows × 7 columns</p>\n",
       "</div>"
      ],
      "text/plain": [
       "              index         stop_name                      geometry_x  \\\n",
       "0      node_CHAMF-E        CHAMPFLEUR  POINT (436223.588 6715001.597)   \n",
       "1     node_MENDES-E     MENDES FRANCE  POINT (433029.204 6714060.184)   \n",
       "2     node_MENDESFR     MENDES FRANCE  POINT (432982.217 6714019.594)   \n",
       "3       node_VIGNES        LES VIGNES  POINT (426628.541 6707230.624)   \n",
       "4     node_VIGNES-E        LES VIGNES  POINT (426630.305 6707188.508)   \n",
       "...             ...               ...                             ...   \n",
       "1051  node_LABRUYER        LA BRUYERE  POINT (430923.709 6714563.059)   \n",
       "1052  node_LABRUY-E        LA BRUYERE  POINT (430962.610 6714538.056)   \n",
       "1053    node_FRATER        FRATERNITE  POINT (432011.649 6716102.539)   \n",
       "1054   node_FRATE-E        FRATERNITE  POINT (431905.459 6716102.772)   \n",
       "1055  node_SBARTHEL  SAINT BARTHELEMY  POINT (437526.378 6713825.458)   \n",
       "\n",
       "      cluster_id  nearest_id  cluster                      geometry_y  \n",
       "0            316         316      316  POINT (436223.588 6715001.597)  \n",
       "1            493         493      493  POINT (433005.710 6714039.889)  \n",
       "2            493         493      493  POINT (433005.710 6714039.889)  \n",
       "3             77          77       77  POINT (426629.423 6707209.566)  \n",
       "4             77          77       77  POINT (426629.423 6707209.566)  \n",
       "...          ...         ...      ...                             ...  \n",
       "1051         308         308      308  POINT (430943.160 6714550.558)  \n",
       "1052         308         308      308  POINT (430943.160 6714550.558)  \n",
       "1053         185         185      185  POINT (431958.554 6716102.655)  \n",
       "1054         185         185      185  POINT (431958.554 6716102.655)  \n",
       "1055         353         353      353  POINT (437526.378 6713825.458)  \n",
       "\n",
       "[1056 rows x 7 columns]"
      ]
     },
     "execution_count": 25,
     "metadata": {},
     "output_type": "execute_result"
    }
   ],
   "source": [
    "merged = nodes.merge(clusters, left_on='cluster_id', right_on='cluster')"
   ]
  },
  {
   "cell_type": "code",
   "execution_count": 33,
   "metadata": {},
   "outputs": [],
   "source": [
    "from shapely.geometry import LineString\n",
    "def row_to_line(row):\n",
    "    # row = merged.iloc[0]\n",
    "    return LineString([row['geometry_x'], row['geometry_y']])\n",
    "\n",
    "merged['geometry'] = merged.apply(row_to_line, axis=1)\n",
    "\n",
    "gpd.GeoDataFrame(merged).plot()"
   ]
  },
  {
   "cell_type": "code",
   "execution_count": 48,
   "metadata": {},
   "outputs": [],
   "source": [
    "df = neighbors.nearest(nodes, clusters)\n",
    "node_geoms = nodes['geometry'].to_dict()\n",
    "cluster_geoms = clusters['geometry'].to_dict()\n",
    "df['geometry'] = df.apply(\n",
    "    lambda x: LineString(\n",
    "        (\n",
    "            node_geoms[x['ix_one']],\n",
    "            cluster_geoms[x['ix_many']]\n",
    "        )\n",
    "    ),\n",
    "    axis=1\n",
    ")\n",
    "gpd.GeoDataFrame(df).to_file(r'inputs/nearest_link_shp.geojson')"
   ]
  },
  {
   "cell_type": "markdown",
   "metadata": {},
   "source": [
    "## Desire lines"
   ]
  },
  {
   "cell_type": "code",
   "execution_count": 62,
   "metadata": {},
   "outputs": [],
   "source": [
    "zones = gpd.read_file(ipath + 'zones_neighbors.geojson').set_index('zone_id')\n",
    "ods = pd.read_csv(ipath + r'ods.csv', index_col=0)"
   ]
  },
  {
   "cell_type": "code",
   "execution_count": 63,
   "metadata": {},
   "outputs": [
    {
     "data": {
      "application/vnd.jupyter.widget-view+json": {
       "model_id": "1f13065fe4e84cb38fc7cc9ef74ff764",
       "version_major": 2,
       "version_minor": 0
      },
      "text/plain": [
       "FloatProgress(value=0.0, max=8.0)"
      ]
     },
     "metadata": {},
     "output_type": "display_data"
    },
    {
     "name": "stderr",
     "output_type": "stream",
     "text": [
      "neighborhood_dataframe: 100%|██████████| 370/370 [00:02<00:00, 134.58it/s]\n"
     ]
    }
   ],
   "source": [
    "neighborhood = neighbors.Neighborhood(\n",
    "    zones.to_crs(epsg=4236), # only works in lat lon\n",
    "    ods,\n",
    "    ['volume']\n",
    ")"
   ]
  },
  {
   "cell_type": "code",
   "execution_count": 64,
   "metadata": {},
   "outputs": [
    {
     "name": "stdout",
     "output_type": "stream",
     "text": [
      "No projection defined --> considered as EPSG:4326\n",
      "can only map affected volumes with arg : od_geometry=False\n"
     ]
    }
   ],
   "source": [
    "od_geoms = neighborhood.export(\n",
    "    'volume',\n",
    "    affected=False,\n",
    ")"
   ]
  },
  {
   "cell_type": "code",
   "execution_count": 65,
   "metadata": {},
   "outputs": [],
   "source": [
    "from shapely.geometry import LineString\n",
    "\n",
    "od_geoms['geometry'] = od_geoms.apply(\n",
    "    lambda x: LineString(\n",
    "        [\n",
    "            (x['longitude_origin'], x['latitude_origin']),\n",
    "            (x['longitude_destination'], x['latitude_destination'])\n",
    "        ]\n",
    "    ), \n",
    "    1\n",
    ")\n",
    "\n",
    "od_geoms = gpd.GeoDataFrame(od_geoms)[\n",
    "    ['origin', 'destination', 'volume',\n",
    "    'geometry', 'label', 'color', 'width']\n",
    "]\n",
    "od_geoms.to_file(\n",
    "    ipath + r'desire_lines/non_affected_ods.geojson', driver='GeoJSON'\n",
    ")"
   ]
  },
  {
   "cell_type": "code",
   "execution_count": 66,
   "metadata": {},
   "outputs": [
    {
     "name": "stdout",
     "output_type": "stream",
     "text": [
      "No projection defined --> considered as EPSG:4326\n"
     ]
    }
   ],
   "source": [
    "desire_lines = neighborhood.export(\n",
    "    'volume',\n",
    "    affected=True,\n",
    ")\n",
    "desire_lines = gpd.GeoDataFrame(desire_lines)[\n",
    "    ['origin', 'destination', 'volume', 'volume_transit',\n",
    "    'geometry', 'label', 'color', 'width']\n",
    "]\n",
    "desire_lines.to_file(\n",
    "    ipath + r'desire_lines/affected_ods.geojson', driver='GeoJSON'\n",
    ")"
   ]
  },
  {
   "cell_type": "markdown",
   "metadata": {},
   "source": [
    "# classified desire lines"
   ]
  },
  {
   "cell_type": "code",
   "execution_count": 69,
   "metadata": {},
   "outputs": [],
   "source": [
    "from syspy.spatial import spatial\n",
    "cluster_geoms, cluster_ids = spatial.zone_clusters(\n",
    "    zones, n_clusters=3\n",
    ")\n",
    "zones['cluster'] = cluster_ids"
   ]
  },
  {
   "cell_type": "code",
   "execution_count": 70,
   "metadata": {},
   "outputs": [
    {
     "data": {
      "text/plain": [
       "<AxesSubplot:>"
      ]
     },
     "execution_count": 70,
     "metadata": {},
     "output_type": "execute_result"
    },
    {
     "data": {
      "image/png": "[encoded data removed]",
      "text/plain": [
       "<Figure size 720x720 with 1 Axes>"
      ]
     },
     "metadata": {
      "needs_background": "light"
     },
     "output_type": "display_data"
    }
   ],
   "source": [
    "zones.plot('cluster')"
   ]
  },
  {
   "cell_type": "code",
   "execution_count": 71,
   "metadata": {},
   "outputs": [
    {
     "name": "stdout",
     "output_type": "stream",
     "text": [
      "0\n"
     ]
    },
    {
     "data": {
      "application/vnd.jupyter.widget-view+json": {
       "model_id": "6dda4bc488cc42cb90af5e12aa4b585e",
       "version_major": 2,
       "version_minor": 0
      },
      "text/plain": [
       "FloatProgress(value=0.0, max=8.0)"
      ]
     },
     "metadata": {},
     "output_type": "display_data"
    },
    {
     "name": "stderr",
     "output_type": "stream",
     "text": [
      "neighborhood_dataframe: 100%|██████████| 370/370 [00:02<00:00, 150.06it/s]\n"
     ]
    },
    {
     "name": "stdout",
     "output_type": "stream",
     "text": [
      "2\n"
     ]
    },
    {
     "data": {
      "application/vnd.jupyter.widget-view+json": {
       "model_id": "a37562b57e91492f99edeff41bb7a1e8",
       "version_major": 2,
       "version_minor": 0
      },
      "text/plain": [
       "FloatProgress(value=0.0, max=8.0)"
      ]
     },
     "metadata": {},
     "output_type": "display_data"
    },
    {
     "name": "stderr",
     "output_type": "stream",
     "text": [
      "neighborhood_dataframe: 100%|██████████| 370/370 [00:02<00:00, 149.98it/s]\n"
     ]
    },
    {
     "name": "stdout",
     "output_type": "stream",
     "text": [
      "1\n"
     ]
    },
    {
     "data": {
      "application/vnd.jupyter.widget-view+json": {
       "model_id": "ff744d1b836247adabd50cef725f9c9e",
       "version_major": 2,
       "version_minor": 0
      },
      "text/plain": [
       "FloatProgress(value=0.0, max=8.0)"
      ]
     },
     "metadata": {},
     "output_type": "display_data"
    },
    {
     "name": "stderr",
     "output_type": "stream",
     "text": [
      "neighborhood_dataframe: 100%|██████████| 370/370 [00:02<00:00, 146.24it/s]\n",
      "3it [00:00,  4.83it/s]\n"
     ]
    }
   ],
   "source": [
    "neighbors.zones_classified_neighborhood(\n",
    "    zones, ods, ipath + r'desire_lines/macro/', 'cluster', volume_col='volume'\n",
    ")\n"
   ]
  },
  {
   "cell_type": "code",
   "execution_count": null,
   "metadata": {},
   "outputs": [],
   "source": []
  }
 ],
 "metadata": {
  "interpreter": {
   "hash": "480c70c9b193d9c860a6166e6871bf3c63db21bcc1d0a8aebcfabbbcc0cf1183"
  },
  "kernelspec": {
   "display_name": "Python 3.8.12 ('quetzal_kpk')",
   "language": "python",
   "name": "python3"
  },
  "language_info": {
   "codemirror_mode": {
    "name": "ipython",
    "version": 3
   },
   "file_extension": ".py",
   "mimetype": "text/x-python",
   "name": "python",
   "nbconvert_exporter": "python",
   "pygments_lexer": "ipython3",
   "version": "3.7.9"
  },
  "orig_nbformat": 4
 },
 "nbformat": 4,
 "nbformat_minor": 2
}
