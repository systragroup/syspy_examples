{
 "cells": [
  {
   "cell_type": "code",
   "execution_count": 13,
   "metadata": {},
   "outputs": [],
   "source": [
    "import sys\n",
    "sys.path.insert(0, r'../')\n",
    "import syspy\n",
    "\n",
    "import geopandas as gpd\n",
    "import pandas as pd\n",
    "ipath = r'inputs/'"
   ]
  },
  {
   "cell_type": "code",
   "execution_count": 14,
   "metadata": {},
   "outputs": [],
   "source": [
    "import matplotlib.pyplot as plt\n",
    "plt.rcParams['figure.figsize'] = (10, 10)"
   ]
  },
  {
   "cell_type": "markdown",
   "metadata": {},
   "source": [
    "## Nearest neighbor"
   ]
  },
  {
   "cell_type": "code",
   "execution_count": 15,
   "metadata": {},
   "outputs": [],
   "source": [
    "nodes = gpd.read_file(ipath + r'nodes.geojson')\n",
    "clusters = gpd.read_file(ipath + r'clusters.geojson')"
   ]
  },
  {
   "cell_type": "code",
   "execution_count": 16,
   "metadata": {},
   "outputs": [],
   "source": [
    "from syspy.syspy_utils import neighbors"
   ]
  },
  {
   "cell_type": "code",
   "execution_count": 17,
   "metadata": {},
   "outputs": [
    {
     "data": {
      "text/html": [
       "<div>\n",
       "<style scoped>\n",
       "    .dataframe tbody tr th:only-of-type {\n",
       "        vertical-align: middle;\n",
       "    }\n",
       "\n",
       "    .dataframe tbody tr th {\n",
       "        vertical-align: top;\n",
       "    }\n",
       "\n",
       "    .dataframe thead th {\n",
       "        text-align: right;\n",
       "    }\n",
       "</style>\n",
       "<table border=\"1\" class=\"dataframe\">\n",
       "  <thead>\n",
       "    <tr style=\"text-align: right;\">\n",
       "      <th></th>\n",
       "      <th>ix_one</th>\n",
       "      <th>index_nn</th>\n",
       "      <th>ix_many</th>\n",
       "      <th>distance</th>\n",
       "      <th>rank</th>\n",
       "    </tr>\n",
       "  </thead>\n",
       "  <tbody>\n",
       "    <tr>\n",
       "      <th>0</th>\n",
       "      <td>0</td>\n",
       "      <td>37</td>\n",
       "      <td>37</td>\n",
       "      <td>0.000000</td>\n",
       "      <td>0</td>\n",
       "    </tr>\n",
       "    <tr>\n",
       "      <th>1</th>\n",
       "      <td>1</td>\n",
       "      <td>36</td>\n",
       "      <td>36</td>\n",
       "      <td>289.079677</td>\n",
       "      <td>0</td>\n",
       "    </tr>\n",
       "    <tr>\n",
       "      <th>119</th>\n",
       "      <td>119</td>\n",
       "      <td>36</td>\n",
       "      <td>36</td>\n",
       "      <td>241.070869</td>\n",
       "      <td>0</td>\n",
       "    </tr>\n",
       "    <tr>\n",
       "      <th>409</th>\n",
       "      <td>409</td>\n",
       "      <td>36</td>\n",
       "      <td>36</td>\n",
       "      <td>172.366801</td>\n",
       "      <td>0</td>\n",
       "    </tr>\n",
       "    <tr>\n",
       "      <th>734</th>\n",
       "      <td>734</td>\n",
       "      <td>36</td>\n",
       "      <td>36</td>\n",
       "      <td>138.051547</td>\n",
       "      <td>0</td>\n",
       "    </tr>\n",
       "    <tr>\n",
       "      <th>...</th>\n",
       "      <td>...</td>\n",
       "      <td>...</td>\n",
       "      <td>...</td>\n",
       "      <td>...</td>\n",
       "      <td>...</td>\n",
       "    </tr>\n",
       "    <tr>\n",
       "      <th>946</th>\n",
       "      <td>946</td>\n",
       "      <td>155</td>\n",
       "      <td>155</td>\n",
       "      <td>124.699954</td>\n",
       "      <td>0</td>\n",
       "    </tr>\n",
       "    <tr>\n",
       "      <th>894</th>\n",
       "      <td>894</td>\n",
       "      <td>162</td>\n",
       "      <td>162</td>\n",
       "      <td>95.214438</td>\n",
       "      <td>0</td>\n",
       "    </tr>\n",
       "    <tr>\n",
       "      <th>941</th>\n",
       "      <td>941</td>\n",
       "      <td>162</td>\n",
       "      <td>162</td>\n",
       "      <td>95.214438</td>\n",
       "      <td>0</td>\n",
       "    </tr>\n",
       "    <tr>\n",
       "      <th>919</th>\n",
       "      <td>919</td>\n",
       "      <td>56</td>\n",
       "      <td>56</td>\n",
       "      <td>15.142848</td>\n",
       "      <td>0</td>\n",
       "    </tr>\n",
       "    <tr>\n",
       "      <th>1010</th>\n",
       "      <td>1010</td>\n",
       "      <td>56</td>\n",
       "      <td>56</td>\n",
       "      <td>15.142848</td>\n",
       "      <td>0</td>\n",
       "    </tr>\n",
       "  </tbody>\n",
       "</table>\n",
       "<p>1056 rows × 5 columns</p>\n",
       "</div>"
      ],
      "text/plain": [
       "      ix_one  index_nn  ix_many    distance  rank\n",
       "0          0        37       37    0.000000     0\n",
       "1          1        36       36  289.079677     0\n",
       "119      119        36       36  241.070869     0\n",
       "409      409        36       36  172.366801     0\n",
       "734      734        36       36  138.051547     0\n",
       "...      ...       ...      ...         ...   ...\n",
       "946      946       155      155  124.699954     0\n",
       "894      894       162      162   95.214438     0\n",
       "941      941       162      162   95.214438     0\n",
       "919      919        56       56   15.142848     0\n",
       "1010    1010        56       56   15.142848     0\n",
       "\n",
       "[1056 rows x 5 columns]"
      ]
     },
     "execution_count": 17,
     "metadata": {},
     "output_type": "execute_result"
    }
   ],
   "source": [
    "neighbors.nearest(nodes, clusters)"
   ]
  },
  {
   "cell_type": "code",
   "execution_count": 18,
   "metadata": {},
   "outputs": [],
   "source": [
    "nodes['cluster_id'] = neighbors.nearest(nodes, clusters).set_index('ix_one')['ix_many']"
   ]
  },
  {
   "cell_type": "markdown",
   "metadata": {},
   "source": [
    "## Desire lines"
   ]
  },
  {
   "cell_type": "code",
   "execution_count": 19,
   "metadata": {},
   "outputs": [],
   "source": [
    "zones = gpd.read_file(ipath + 'zones_neighbors.geojson').set_index('zone_id')\n",
    "ods = pd.read_csv(ipath + r'ods.csv', index_col=0)"
   ]
  },
  {
   "cell_type": "code",
   "execution_count": 20,
   "metadata": {},
   "outputs": [
    {
     "data": {
      "application/vnd.jupyter.widget-view+json": {
       "model_id": "155da9bae44c4a9c9a4d50bc83d64984",
       "version_major": 2,
       "version_minor": 0
      },
      "text/plain": [
       "FloatProgress(value=0.0, max=8.0)"
      ]
     },
     "metadata": {},
     "output_type": "display_data"
    },
    {
     "name": "stderr",
     "output_type": "stream",
     "text": [
      "neighborhood_dataframe: 100%|██████████| 370/370 [00:03<00:00, 107.57it/s]\n"
     ]
    }
   ],
   "source": [
    "neighborhood = neighbors.Neighborhood(\n",
    "    zones.to_crs(epsg=4236), # only works in lat lon\n",
    "    ods,\n",
    "    ['volume']\n",
    ")"
   ]
  },
  {
   "cell_type": "code",
   "execution_count": 21,
   "metadata": {},
   "outputs": [
    {
     "name": "stdout",
     "output_type": "stream",
     "text": [
      "No projection defined --> considered as EPSG:4326\n",
      "can only map affected volumes with arg : od_geometry=False\n"
     ]
    }
   ],
   "source": [
    "od_geoms = neighborhood.export(\n",
    "    'volume',\n",
    "    affected=False,\n",
    ")"
   ]
  },
  {
   "cell_type": "code",
   "execution_count": 22,
   "metadata": {},
   "outputs": [
    {
     "data": {
      "text/plain": [
       "Index(['origin', 'destination', 'volume', 'link', 'link_list',\n",
       "       'volume_transit', 'latitude_origin', 'longitude_origin',\n",
       "       'latitude_destination', 'longitude_destination', 'geometry', 'distance',\n",
       "       'label', 'color', 'width'],\n",
       "      dtype='object')"
      ]
     },
     "execution_count": 22,
     "metadata": {},
     "output_type": "execute_result"
    }
   ],
   "source": [
    "od_geoms.columns"
   ]
  },
  {
   "cell_type": "code",
   "execution_count": 23,
   "metadata": {},
   "outputs": [],
   "source": [
    "from shapely.geometry import LineString\n",
    "\n",
    "od_geoms['geometry'] = od_geoms.apply(\n",
    "    lambda x: LineString(\n",
    "        [\n",
    "            (x['longitude_origin'], x['latitude_origin']),\n",
    "            (x['longitude_destination'], x['latitude_destination'])\n",
    "        ]\n",
    "    ), \n",
    "    1\n",
    ")\n",
    "\n",
    "od_geoms = gpd.GeoDataFrame(od_geoms)[\n",
    "    ['origin', 'destination', 'volume',\n",
    "    'geometry', 'label', 'color', 'width']\n",
    "]\n",
    "od_geoms.to_file(\n",
    "    ipath + r'desire_lines/non_affected_ods.geojson', driver='GeoJSON'\n",
    ")"
   ]
  },
  {
   "cell_type": "code",
   "execution_count": 24,
   "metadata": {},
   "outputs": [
    {
     "name": "stdout",
     "output_type": "stream",
     "text": [
      "No projection defined --> considered as EPSG:4326\n"
     ]
    }
   ],
   "source": [
    "desire_lines = neighborhood.export(\n",
    "    'volume',\n",
    "    affected=True,\n",
    ")\n",
    "desire_lines = gpd.GeoDataFrame(desire_lines)[\n",
    "    ['origin', 'destination', 'volume', 'volume_transit',\n",
    "    'geometry', 'label', 'color', 'width']\n",
    "]\n",
    "desire_lines.to_file(\n",
    "    ipath + r'desire_lines/affected_ods.geojson', driver='GeoJSON'\n",
    ")"
   ]
  },
  {
   "cell_type": "markdown",
   "metadata": {},
   "source": [
    "# classified desire lines"
   ]
  },
  {
   "cell_type": "code",
   "execution_count": 25,
   "metadata": {},
   "outputs": [],
   "source": [
    "from syspy.spatial import spatial\n",
    "cluster_geoms, cluster_ids = spatial.zone_clusters(\n",
    "    zones, n_clusters=4\n",
    ")\n",
    "zones['cluster'] = cluster_ids"
   ]
  },
  {
   "cell_type": "code",
   "execution_count": 26,
   "metadata": {},
   "outputs": [
    {
     "name": "stdout",
     "output_type": "stream",
     "text": [
      "2\n"
     ]
    },
    {
     "data": {
      "application/vnd.jupyter.widget-view+json": {
       "model_id": "98168ae4a8b444868da9f1d7d3b256f6",
       "version_major": 2,
       "version_minor": 0
      },
      "text/plain": [
       "FloatProgress(value=0.0, max=8.0)"
      ]
     },
     "metadata": {},
     "output_type": "display_data"
    },
    {
     "name": "stderr",
     "output_type": "stream",
     "text": [
      "neighborhood_dataframe: 100%|██████████| 370/370 [00:03<00:00, 120.59it/s]\n"
     ]
    },
    {
     "name": "stdout",
     "output_type": "stream",
     "text": [
      "3\n"
     ]
    },
    {
     "data": {
      "application/vnd.jupyter.widget-view+json": {
       "model_id": "53bf62db1bb04bb292c95a28c7b8c9f4",
       "version_major": 2,
       "version_minor": 0
      },
      "text/plain": [
       "FloatProgress(value=0.0, max=8.0)"
      ]
     },
     "metadata": {},
     "output_type": "display_data"
    },
    {
     "name": "stderr",
     "output_type": "stream",
     "text": [
      "neighborhood_dataframe: 100%|██████████| 370/370 [00:02<00:00, 129.26it/s]\n"
     ]
    },
    {
     "name": "stdout",
     "output_type": "stream",
     "text": [
      "1\n"
     ]
    },
    {
     "data": {
      "application/vnd.jupyter.widget-view+json": {
       "model_id": "66185aa8ed034f31b9162815e6e56f10",
       "version_major": 2,
       "version_minor": 0
      },
      "text/plain": [
       "FloatProgress(value=0.0, max=8.0)"
      ]
     },
     "metadata": {},
     "output_type": "display_data"
    },
    {
     "name": "stderr",
     "output_type": "stream",
     "text": [
      "neighborhood_dataframe: 100%|██████████| 370/370 [00:03<00:00, 110.74it/s]\n"
     ]
    },
    {
     "name": "stdout",
     "output_type": "stream",
     "text": [
      "0\n"
     ]
    },
    {
     "data": {
      "application/vnd.jupyter.widget-view+json": {
       "model_id": "8dda0575dde047c0b78ede7bd35b825f",
       "version_major": 2,
       "version_minor": 0
      },
      "text/plain": [
       "FloatProgress(value=0.0, max=8.0)"
      ]
     },
     "metadata": {},
     "output_type": "display_data"
    },
    {
     "name": "stderr",
     "output_type": "stream",
     "text": [
      "neighborhood_dataframe: 100%|██████████| 370/370 [00:02<00:00, 131.10it/s]\n",
      "4it [00:00,  4.24it/s]\n"
     ]
    }
   ],
   "source": [
    "neighbors.zones_classified_neighborhood(\n",
    "    zones, ods, ipath + r'desire_lines/macro/', 'cluster', volume_col='volume'\n",
    ")\n"
   ]
  },
  {
   "cell_type": "code",
   "execution_count": null,
   "metadata": {},
   "outputs": [],
   "source": []
  }
 ],
 "metadata": {
  "interpreter": {
   "hash": "480c70c9b193d9c860a6166e6871bf3c63db21bcc1d0a8aebcfabbbcc0cf1183"
  },
  "kernelspec": {
   "display_name": "Python 3.8.12 ('quetzal_kpk')",
   "language": "python",
   "name": "python3"
  },
  "language_info": {
   "codemirror_mode": {
    "name": "ipython",
    "version": 3
   },
   "file_extension": ".py",
   "mimetype": "text/x-python",
   "name": "python",
   "nbconvert_exporter": "python",
   "pygments_lexer": "ipython3",
   "version": "3.7.9"
  },
  "orig_nbformat": 4
 },
 "nbformat": 4,
 "nbformat_minor": 2
}
