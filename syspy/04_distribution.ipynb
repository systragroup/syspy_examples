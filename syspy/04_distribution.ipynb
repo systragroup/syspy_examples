{
 "cells": [
  {
   "cell_type": "code",
   "execution_count": 1,
   "metadata": {},
   "outputs": [],
   "source": [
    "import sys\n",
    "sys.path.insert(0, r'../../quetzal/')\n",
    "import syspy\n",
    "\n",
    "import pandas as pd\n",
    "ipath = r'inputs/'"
   ]
  },
  {
   "cell_type": "markdown",
   "metadata": {},
   "source": [
    "# FRATAR algorithm"
   ]
  },
  {
   "cell_type": "markdown",
   "metadata": {},
   "source": [
    "Algorithme itératif pour modifier une matrice OD via ses émissions / attractions"
   ]
  },
  {
   "cell_type": "code",
   "execution_count": 2,
   "metadata": {},
   "outputs": [],
   "source": [
    "from syspy import distribution"
   ]
  },
  {
   "cell_type": "code",
   "execution_count": 3,
   "metadata": {},
   "outputs": [
    {
     "data": {
      "text/html": [
       "<div>\n",
       "<style scoped>\n",
       "    .dataframe tbody tr th:only-of-type {\n",
       "        vertical-align: middle;\n",
       "    }\n",
       "\n",
       "    .dataframe tbody tr th {\n",
       "        vertical-align: top;\n",
       "    }\n",
       "\n",
       "    .dataframe thead th {\n",
       "        text-align: right;\n",
       "    }\n",
       "</style>\n",
       "<table border=\"1\" class=\"dataframe\">\n",
       "  <thead>\n",
       "    <tr style=\"text-align: right;\">\n",
       "      <th></th>\n",
       "      <th>origin</th>\n",
       "      <th>destination</th>\n",
       "      <th>periode</th>\n",
       "      <th>volume</th>\n",
       "    </tr>\n",
       "  </thead>\n",
       "  <tbody>\n",
       "    <tr>\n",
       "      <th>0</th>\n",
       "      <td>zone_0</td>\n",
       "      <td>zone_0</td>\n",
       "      <td>HPM</td>\n",
       "      <td>2.551684</td>\n",
       "    </tr>\n",
       "    <tr>\n",
       "      <th>3</th>\n",
       "      <td>zone_0</td>\n",
       "      <td>zone_1</td>\n",
       "      <td>HPM</td>\n",
       "      <td>1.176192</td>\n",
       "    </tr>\n",
       "    <tr>\n",
       "      <th>5</th>\n",
       "      <td>zone_0</td>\n",
       "      <td>zone_10</td>\n",
       "      <td>HPM</td>\n",
       "      <td>0.495365</td>\n",
       "    </tr>\n",
       "    <tr>\n",
       "      <th>10</th>\n",
       "      <td>zone_0</td>\n",
       "      <td>zone_100</td>\n",
       "      <td>HPM</td>\n",
       "      <td>8.010701</td>\n",
       "    </tr>\n",
       "    <tr>\n",
       "      <th>14</th>\n",
       "      <td>zone_0</td>\n",
       "      <td>zone_101</td>\n",
       "      <td>HPM</td>\n",
       "      <td>27.553181</td>\n",
       "    </tr>\n",
       "  </tbody>\n",
       "</table>\n",
       "</div>"
      ],
      "text/plain": [
       "    origin destination periode     volume\n",
       "0   zone_0      zone_0     HPM   2.551684\n",
       "3   zone_0      zone_1     HPM   1.176192\n",
       "5   zone_0     zone_10     HPM   0.495365\n",
       "10  zone_0    zone_100     HPM   8.010701\n",
       "14  zone_0    zone_101     HPM  27.553181"
      ]
     },
     "execution_count": 3,
     "metadata": {},
     "output_type": "execute_result"
    }
   ],
   "source": [
    "ods = pd.read_csv(ipath + r'ods.csv', index_col=0)\n",
    "ods.head()"
   ]
  },
  {
   "cell_type": "markdown",
   "metadata": {},
   "source": [
    "ATTENTION: la matrice doit être complète"
   ]
  },
  {
   "cell_type": "code",
   "execution_count": 4,
   "metadata": {},
   "outputs": [],
   "source": [
    "import numpy as np\n",
    "zone_ids = list(set(ods['origin'].values).union(set(ods['destination'].values)))\n",
    "all_ods_df = pd.DataFrame(\n",
    "    index=[zone_ids, zone_ids],\n",
    "    data=np.zeros(len(zone_ids))\n",
    ").unstack().fillna(0).stack()\n",
    "\n",
    "all_ods_df.index.names = ['origin', 'destination']"
   ]
  },
  {
   "cell_type": "code",
   "execution_count": 5,
   "metadata": {},
   "outputs": [
    {
     "data": {
      "text/html": [
       "<div>\n",
       "<style scoped>\n",
       "    .dataframe tbody tr th:only-of-type {\n",
       "        vertical-align: middle;\n",
       "    }\n",
       "\n",
       "    .dataframe tbody tr th {\n",
       "        vertical-align: top;\n",
       "    }\n",
       "\n",
       "    .dataframe thead th {\n",
       "        text-align: right;\n",
       "    }\n",
       "</style>\n",
       "<table border=\"1\" class=\"dataframe\">\n",
       "  <thead>\n",
       "    <tr style=\"text-align: right;\">\n",
       "      <th></th>\n",
       "      <th></th>\n",
       "      <th>volume</th>\n",
       "    </tr>\n",
       "    <tr>\n",
       "      <th>origin</th>\n",
       "      <th>destination</th>\n",
       "      <th></th>\n",
       "    </tr>\n",
       "  </thead>\n",
       "  <tbody>\n",
       "    <tr>\n",
       "      <th rowspan=\"5\" valign=\"top\">zone_0</th>\n",
       "      <th>zone_0</th>\n",
       "      <td>2.551684</td>\n",
       "    </tr>\n",
       "    <tr>\n",
       "      <th>zone_1</th>\n",
       "      <td>1.176192</td>\n",
       "    </tr>\n",
       "    <tr>\n",
       "      <th>zone_10</th>\n",
       "      <td>0.495365</td>\n",
       "    </tr>\n",
       "    <tr>\n",
       "      <th>zone_100</th>\n",
       "      <td>8.010701</td>\n",
       "    </tr>\n",
       "    <tr>\n",
       "      <th>zone_101</th>\n",
       "      <td>27.553181</td>\n",
       "    </tr>\n",
       "  </tbody>\n",
       "</table>\n",
       "</div>"
      ],
      "text/plain": [
       "                       volume\n",
       "origin destination           \n",
       "zone_0 zone_0        2.551684\n",
       "       zone_1        1.176192\n",
       "       zone_10       0.495365\n",
       "       zone_100      8.010701\n",
       "       zone_101     27.553181"
      ]
     },
     "execution_count": 5,
     "metadata": {},
     "output_type": "execute_result"
    }
   ],
   "source": [
    "ods = all_ods_df.join(\n",
    "    ods.set_index(['origin', 'destination'])['volume']\n",
    ").fillna(0)[['volume']]\n",
    "ods.head()"
   ]
  },
  {
   "cell_type": "markdown",
   "metadata": {},
   "source": [
    "On calcule les émissions et attractions actuelles pour les modifier"
   ]
  },
  {
   "cell_type": "code",
   "execution_count": 6,
   "metadata": {},
   "outputs": [],
   "source": [
    "productions = ods.groupby('origin')['volume'].sum()\n",
    "attractions = ods.groupby('destination')['volume'].sum()"
   ]
  },
  {
   "cell_type": "code",
   "execution_count": 7,
   "metadata": {},
   "outputs": [],
   "source": [
    "new_productions = productions.copy()\n",
    "new_productions.loc['zone_352'] *= 10"
   ]
  },
  {
   "cell_type": "code",
   "execution_count": 8,
   "metadata": {},
   "outputs": [],
   "source": [
    "trips_array = ods.unstack().values\n",
    "prod_array = new_productions.sort_index().values\n",
    "attr_array = attractions.sort_index().values"
   ]
  },
  {
   "cell_type": "code",
   "execution_count": 9,
   "metadata": {},
   "outputs": [
    {
     "name": "stdout",
     "output_type": "stream",
     "text": [
      "\u001b[1;31mSignature:\u001b[0m\n",
      "\u001b[0mdistribution\u001b[0m\u001b[1;33m.\u001b[0m\u001b[0mCalcFratar\u001b[0m\u001b[1;33m(\u001b[0m\u001b[1;33m\n",
      "\u001b[0m    \u001b[0mProdA\u001b[0m\u001b[1;33m,\u001b[0m\u001b[1;33m\n",
      "\u001b[0m    \u001b[0mAttrA\u001b[0m\u001b[1;33m,\u001b[0m\u001b[1;33m\n",
      "\u001b[0m    \u001b[0mTrips1\u001b[0m\u001b[1;33m,\u001b[0m\u001b[1;33m\n",
      "\u001b[0m    \u001b[0mmaxIter\u001b[0m\u001b[1;33m=\u001b[0m\u001b[1;36m10\u001b[0m\u001b[1;33m,\u001b[0m\u001b[1;33m\n",
      "\u001b[0m    \u001b[0mprint_balance\u001b[0m\u001b[1;33m=\u001b[0m\u001b[1;32mFalse\u001b[0m\u001b[1;33m,\u001b[0m\u001b[1;33m\n",
      "\u001b[0m\u001b[1;33m)\u001b[0m\u001b[1;33m\u001b[0m\u001b[1;33m\u001b[0m\u001b[0m\n",
      "\u001b[1;31mSource:\u001b[0m   \n",
      "\u001b[1;32mdef\u001b[0m \u001b[0mCalcFratar\u001b[0m\u001b[1;33m(\u001b[0m\u001b[0mProdA\u001b[0m\u001b[1;33m,\u001b[0m \u001b[0mAttrA\u001b[0m\u001b[1;33m,\u001b[0m \u001b[0mTrips1\u001b[0m\u001b[1;33m,\u001b[0m \u001b[0mmaxIter\u001b[0m\u001b[1;33m=\u001b[0m\u001b[1;36m10\u001b[0m\u001b[1;33m,\u001b[0m \u001b[0mprint_balance\u001b[0m\u001b[1;33m=\u001b[0m\u001b[1;32mFalse\u001b[0m\u001b[1;33m)\u001b[0m\u001b[1;33m:\u001b[0m\u001b[1;33m\n",
      "\u001b[0m    \u001b[1;34m'''Calculates fratar trip distribution\n",
      "       ProdA = Production target as array\n",
      "       AttrA = Attraction target as array\n",
      "       Trips1 = Seed trip table for fratar\n",
      "       maxIter (optional) = maximum iterations, default is 10\n",
      "       Returns fratared trip table\n",
      "    '''\u001b[0m\u001b[1;33m\n",
      "\u001b[0m    \u001b[1;31m# print('Checking production, attraction balancing:')\u001b[0m\u001b[1;33m\n",
      "\u001b[0m    \u001b[0msumP\u001b[0m \u001b[1;33m=\u001b[0m \u001b[0msum\u001b[0m\u001b[1;33m(\u001b[0m\u001b[0mProdA\u001b[0m\u001b[1;33m)\u001b[0m\u001b[1;33m\n",
      "\u001b[0m    \u001b[0msumA\u001b[0m \u001b[1;33m=\u001b[0m \u001b[0msum\u001b[0m\u001b[1;33m(\u001b[0m\u001b[0mAttrA\u001b[0m\u001b[1;33m)\u001b[0m\u001b[1;33m\n",
      "\u001b[0m    \u001b[1;31m# print('Production: ', sumP)\u001b[0m\u001b[1;33m\n",
      "\u001b[0m    \u001b[1;31m# print('Attraction: ', sumA)\u001b[0m\u001b[1;33m\n",
      "\u001b[0m    \u001b[1;32mif\u001b[0m \u001b[0msumP\u001b[0m \u001b[1;33m!=\u001b[0m \u001b[0msumA\u001b[0m\u001b[1;33m:\u001b[0m\u001b[1;33m\n",
      "\u001b[0m        \u001b[1;32mif\u001b[0m \u001b[0mprint_balance\u001b[0m\u001b[1;33m:\u001b[0m\u001b[1;33m\n",
      "\u001b[0m            \u001b[0mprint\u001b[0m\u001b[1;33m(\u001b[0m\u001b[1;34m'Productions and attractions do not balance, attractions will be scaled to productions!'\u001b[0m\u001b[1;33m)\u001b[0m\u001b[1;33m\n",
      "\u001b[0m        \u001b[0mAttrA\u001b[0m \u001b[1;33m=\u001b[0m \u001b[0mAttrA\u001b[0m \u001b[1;33m*\u001b[0m \u001b[1;33m(\u001b[0m\u001b[0msumP\u001b[0m \u001b[1;33m/\u001b[0m \u001b[0msumA\u001b[0m\u001b[1;33m)\u001b[0m\u001b[1;33m\n",
      "\u001b[0m    \u001b[1;32melse\u001b[0m\u001b[1;33m:\u001b[0m\u001b[1;33m\n",
      "\u001b[0m        \u001b[1;32mif\u001b[0m \u001b[0mprint_balance\u001b[0m\u001b[1;33m:\u001b[0m\u001b[1;33m\n",
      "\u001b[0m            \u001b[0mprint\u001b[0m\u001b[1;33m(\u001b[0m\u001b[1;34m'Production, attraction balancing OK.'\u001b[0m\u001b[1;33m)\u001b[0m\u001b[1;33m\n",
      "\u001b[0m    \u001b[1;31m# Run 2D balancing --->\u001b[0m\u001b[1;33m\n",
      "\u001b[0m    \u001b[1;32mfor\u001b[0m \u001b[0mbalIter\u001b[0m \u001b[1;32min\u001b[0m \u001b[0mrange\u001b[0m\u001b[1;33m(\u001b[0m\u001b[1;36m0\u001b[0m\u001b[1;33m,\u001b[0m \u001b[0mmaxIter\u001b[0m\u001b[1;33m)\u001b[0m\u001b[1;33m:\u001b[0m\u001b[1;33m\n",
      "\u001b[0m        \u001b[0mComputedProductions\u001b[0m \u001b[1;33m=\u001b[0m \u001b[0mTrips1\u001b[0m\u001b[1;33m.\u001b[0m\u001b[0msum\u001b[0m\u001b[1;33m(\u001b[0m\u001b[1;36m1\u001b[0m\u001b[1;33m)\u001b[0m\u001b[1;33m\n",
      "\u001b[0m        \u001b[0mComputedProductions\u001b[0m\u001b[1;33m[\u001b[0m\u001b[0mComputedProductions\u001b[0m \u001b[1;33m==\u001b[0m \u001b[1;36m0\u001b[0m\u001b[1;33m]\u001b[0m \u001b[1;33m=\u001b[0m \u001b[1;36m1\u001b[0m\u001b[1;33m\n",
      "\u001b[0m        \u001b[0mOrigFac\u001b[0m \u001b[1;33m=\u001b[0m \u001b[1;33m(\u001b[0m\u001b[0mProdA\u001b[0m \u001b[1;33m/\u001b[0m \u001b[0mComputedProductions\u001b[0m\u001b[1;33m)\u001b[0m\u001b[1;33m\n",
      "\u001b[0m        \u001b[0mTrips1\u001b[0m \u001b[1;33m=\u001b[0m \u001b[0mTrips1\u001b[0m \u001b[1;33m*\u001b[0m \u001b[0mOrigFac\u001b[0m\u001b[1;33m[\u001b[0m\u001b[1;33m:\u001b[0m\u001b[1;33m,\u001b[0m \u001b[0mnumpy\u001b[0m\u001b[1;33m.\u001b[0m\u001b[0mnewaxis\u001b[0m\u001b[1;33m]\u001b[0m\u001b[1;33m\n",
      "\u001b[0m\u001b[1;33m\n",
      "\u001b[0m        \u001b[0mComputedAttractions\u001b[0m \u001b[1;33m=\u001b[0m \u001b[0mTrips1\u001b[0m\u001b[1;33m.\u001b[0m\u001b[0msum\u001b[0m\u001b[1;33m(\u001b[0m\u001b[1;36m0\u001b[0m\u001b[1;33m)\u001b[0m\u001b[1;33m\n",
      "\u001b[0m        \u001b[0mComputedAttractions\u001b[0m\u001b[1;33m[\u001b[0m\u001b[0mComputedAttractions\u001b[0m \u001b[1;33m==\u001b[0m \u001b[1;36m0\u001b[0m\u001b[1;33m]\u001b[0m \u001b[1;33m=\u001b[0m \u001b[1;36m1\u001b[0m\u001b[1;33m\n",
      "\u001b[0m        \u001b[0mDestFac\u001b[0m \u001b[1;33m=\u001b[0m \u001b[1;33m(\u001b[0m\u001b[0mAttrA\u001b[0m \u001b[1;33m/\u001b[0m \u001b[0mComputedAttractions\u001b[0m\u001b[1;33m)\u001b[0m\u001b[1;33m\n",
      "\u001b[0m        \u001b[0mTrips1\u001b[0m \u001b[1;33m=\u001b[0m \u001b[0mTrips1\u001b[0m \u001b[1;33m*\u001b[0m \u001b[0mDestFac\u001b[0m\u001b[1;33m\n",
      "\u001b[0m    \u001b[1;32mreturn\u001b[0m \u001b[0mTrips1\u001b[0m\u001b[1;33m\u001b[0m\u001b[1;33m\u001b[0m\u001b[0m\n",
      "\u001b[1;31mFile:\u001b[0m      c:\\users\\rgoix\\documents\\dev\\formation\\quetzal\\syspy\\distribution\\distribution.py\n",
      "\u001b[1;31mType:\u001b[0m      function\n"
     ]
    }
   ],
   "source": [
    "from syspy.distribution import distribution\n",
    "distribution.CalcFratar??"
   ]
  },
  {
   "cell_type": "code",
   "execution_count": 10,
   "metadata": {},
   "outputs": [
    {
     "name": "stdout",
     "output_type": "stream",
     "text": [
      "Productions and attractions do not balance, attractions will be scaled to productions!\n"
     ]
    }
   ],
   "source": [
    "# Fratar\n",
    "new_trips = distribution.CalcFratar(\n",
    "    prod_array, attr_array, trips_array, 10, True\n",
    ")"
   ]
  },
  {
   "cell_type": "code",
   "execution_count": 11,
   "metadata": {},
   "outputs": [],
   "source": [
    "new_ods = pd.DataFrame(\n",
    "    data=new_trips,\n",
    "    index=ods.unstack().index,\n",
    "    columns=ods.unstack().columns\n",
    ").stack().reset_index()"
   ]
  },
  {
   "cell_type": "code",
   "execution_count": 12,
   "metadata": {},
   "outputs": [
    {
     "data": {
      "text/plain": [
       "False"
      ]
     },
     "execution_count": 12,
     "metadata": {},
     "output_type": "execute_result"
    }
   ],
   "source": [
    "new_ods.groupby('origin')['volume'].sum().round(-1).equals(productions.round(-1))"
   ]
  },
  {
   "cell_type": "code",
   "execution_count": 13,
   "metadata": {},
   "outputs": [
    {
     "data": {
      "text/plain": [
       "True"
      ]
     },
     "execution_count": 13,
     "metadata": {},
     "output_type": "execute_result"
    }
   ],
   "source": [
    "new_ods.groupby('origin')['volume'].sum().round(-1).equals(new_productions.round(-1))"
   ]
  },
  {
   "cell_type": "code",
   "execution_count": 14,
   "metadata": {},
   "outputs": [
    {
     "data": {
      "text/plain": [
       "False"
      ]
     },
     "execution_count": 14,
     "metadata": {},
     "output_type": "execute_result"
    }
   ],
   "source": [
    "new_ods.groupby('destination')['volume'].sum().round(-1).equals(attractions.round(-1))"
   ]
  },
  {
   "cell_type": "code",
   "execution_count": 15,
   "metadata": {},
   "outputs": [
    {
     "data": {
      "text/plain": [
       "True"
      ]
     },
     "execution_count": 15,
     "metadata": {},
     "output_type": "execute_result"
    }
   ],
   "source": [
    "new_ods.groupby('destination')['volume'].sum().round(-1).equals(\n",
    "    (attractions * new_productions.sum() / productions.sum()).round(-1)\n",
    ")"
   ]
  }
 ],
 "metadata": {
  "interpreter": {
   "hash": "09c2288bb29a4104b70d1cd6f8ce1c628fd736ae85894e824b9ea5115135364f"
  },
  "kernelspec": {
   "display_name": "Python 3.7.9 ('quetzal_env')",
   "language": "python",
   "name": "python3"
  },
  "language_info": {
   "codemirror_mode": {
    "name": "ipython",
    "version": 3
   },
   "file_extension": ".py",
   "mimetype": "text/x-python",
   "name": "python",
   "nbconvert_exporter": "python",
   "pygments_lexer": "ipython3",
   "version": "3.8.13"
  },
  "orig_nbformat": 4
 },
 "nbformat": 4,
 "nbformat_minor": 2
}
